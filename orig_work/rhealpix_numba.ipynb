{
 "cells": [
  {
   "cell_type": "code",
   "execution_count": 1,
   "id": "512a8986-38bf-4795-bb41-c92e18c578a0",
   "metadata": {
    "tags": []
   },
   "outputs": [],
   "source": [
    "import numpy as np\n",
    "import pandas as pd\n",
    "import geopandas as gpd"
   ]
  },
  {
   "cell_type": "code",
   "execution_count": 2,
   "id": "5d673874-8728-4861-bbf9-271df5fa1fac",
   "metadata": {
    "tags": []
   },
   "outputs": [],
   "source": [
    "import rhealpixdggs.dggs as dggs\n",
    "from rhealpixdggs.dggs import RHEALPixDGGS, Cell, WGS84_003, WGS84_003_RADIANS\n",
    "from rhealpixdggs.ellipsoids import (\n",
    "    Ellipsoid,\n",
    "    WGS84_ASPHERE_RADIANS,\n",
    "    WGS84_ELLIPSOID,\n",
    "    WGS84_ELLIPSOID_RADIANS,\n",
    ")"
   ]
  },
  {
   "cell_type": "code",
   "execution_count": 6,
   "id": "c2c59031-1014-4ca4-927a-9de1c5b28f76",
   "metadata": {
    "tags": []
   },
   "outputs": [],
   "source": [
    "from typing import Union, List\n",
    "from shapely.geometry import mapping, Polygon, GeometryCollection\n",
    "from shapely import affinity\n",
    "\n",
    "# https://towardsdatascience.com/around-the-world-in-80-lines-crossing-the-antimeridian-with-python-and-shapely-c87c9b6e1513\n",
    "# https://gist.github.com/PawaritL/ec7136c0b718ca65db6df1c33fd1bb11\n",
    "\n",
    "def check_crossing(lon1: float, lon2: float, validate: bool = True):\n",
    "    \"\"\"\n",
    "    Assuming a minimum travel distance between two provided longitude coordinates,\n",
    "    checks if the 180th meridian (antimeridian) is crossed.\n",
    "    \"\"\"\n",
    "    if validate and any(abs(x) > 180.0 for x in [lon1, lon2]):\n",
    "        raise ValueError(\"longitudes must be in degrees [-180.0, 180.0]\")   \n",
    "    return abs(lon2 - lon1) > 180.0\n",
    "\n",
    "def check_for_geom(geom):\n",
    "    crossed = False\n",
    "    p_init = geom.exterior.coords[0]\n",
    "\n",
    "    for p in range(1, len(geom.exterior.coords)):\n",
    "        px = geom.exterior.coords[p]\n",
    "        # print(px)\n",
    "\n",
    "        if check_crossing(p_init[0], px[0]):\n",
    "            crossed = True\n",
    "        p_init = px\n",
    "    \n",
    "    return crossed"
   ]
  },
  {
   "cell_type": "code",
   "execution_count": 7,
   "id": "09c4e75e-ff90-4c72-ae20-56a0e4252bfa",
   "metadata": {
    "tags": []
   },
   "outputs": [],
   "source": [
    "def __lonlat_to_latlon(lonlat_array):\n",
    "    latlon_array = []\n",
    "    for vertex in lonlat_array:\n",
    "        latlon_array.append((vertex[1],vertex[0]))\n",
    "    return latlon_array\n",
    "\n",
    "def __cell_to_geometry(cell):\n",
    "    geom = None\n",
    "    try:\n",
    "        geom =  Polygon(cell.boundary(n=2,plane=False))\n",
    "    except:\n",
    "        print(f'internal rhealpix error with cell.boundary method for {str(cell)}')\n",
    "    return geom\n",
    "\n",
    "def create_rhpix_geometry(df):\n",
    "\n",
    "    gdf = gpd.GeoDataFrame(df.copy())\n",
    "    gdf['geometry'] = gdf['cell_id'].apply(__cell_to_geometry)\n",
    "    gdf.crs = 'EPSG:4326'\n",
    "    gdf['cell_id'] = gdf['cell_id'].apply(lambda x: str(x))\n",
    "\n",
    "    return gdf\n",
    "\n",
    "\n",
    "def get_rhpix_cells(res, extent=None):\n",
    "    rdggs = WGS84_003\n",
    "    if extent:\n",
    "        nw = (extent[1], extent[2])\n",
    "        se = (extent[3], extent[0])\n",
    "        set_hex = list(flatten(rdggs.cells_from_region(res, nw, se, plane=False)))\n",
    "    else:    \n",
    "        set_hex = [x for x in rdggs.grid(res)]\n",
    "\n",
    "    df = pd.DataFrame({\"cell_id\": set_hex})\n",
    "    \n",
    "    return df\n",
    "\n",
    "\n",
    "def create_rhpix_geom_cells_global(resolutions, table, export_type, db_engine=''):\n",
    "    \"\"\"Create geometry for rhpix cells globally for given resolutions\n",
    "        Parameters:\n",
    "        db_engine (sqlalchemy.engine): sqlalchemy database engine\n",
    "        resolutions(array): array of integer h3 resolution levels\n",
    "        table(string): table name for postgres database\n",
    "        export_type(string): where to export 'geojson' or 'postgres'\n",
    "        Returns:\n",
    "        none\n",
    "    \"\"\"\n",
    "    rdggs = WGS84_003\n",
    "    transformer = Transformer.from_crs(\"epsg:4326\", 'proj=rhealpix')\n",
    "    for res in resolutions:\n",
    "        \n",
    "        gdf = gpd.GeoDataFrame({'cell_id':[x for x in rdggs.grid(res)]})\n",
    "        gdf['geometry'] = gdf['cell_id'].apply(lambda x: Polygon(x.boundary(n=10,plane=False)))\n",
    "        gdf.crs = 'EPSG:4326'\n",
    "        gdf['cell_id'] = gdf['cell_id'].apply(lambda x: str(x))\n",
    "        gdf['area'] = gdf['geometry'].apply(lambda x: transform(transformer.transform, x).area)\n",
    "        \n",
    "        print('finish caclulating geometry {} {}'.format(res, time.asctime(time.localtime(time.time()))))\n",
    "        \n",
    "        if export_type == 'postgres':\n",
    "            \n",
    "            gdf.to_postgis(table + str(res), db_engine, if_exists='replace')\n",
    "            print('finish import to db {} {}'.format(res, time.asctime(time.localtime(time.time()))))\n",
    "\n",
    "            \n",
    "        elif export_type == 'geojson':\n",
    "\n",
    "            gdf.to_file(\"{}{}.geojson\".format(table, res), driver='GeoJSON')\n",
    "            print('finish import to geojson {} {}'.format(res, time.asctime(time.localtime(time.time()))))\n"
   ]
  },
  {
   "cell_type": "code",
   "execution_count": 8,
   "id": "0dbac3d0-3186-4d27-b17e-a737f6734a5e",
   "metadata": {
    "tags": []
   },
   "outputs": [],
   "source": [
    "gdf_rhpx_sm = create_rhpix_geometry( get_rhpix_cells(2, None) )\n",
    "\n",
    "gdf_rhpx = create_rhpix_geometry( get_rhpix_cells(3, None) )"
   ]
  },
  {
   "cell_type": "code",
   "execution_count": 9,
   "id": "5710a5ee-9bf8-4b0a-bd6f-53613fa2de0e",
   "metadata": {
    "tags": []
   },
   "outputs": [
    {
     "data": {
      "text/plain": [
       "False    459\n",
       "True      27\n",
       "Name: crossed, dtype: int64"
      ]
     },
     "metadata": {},
     "output_type": "display_data"
    },
    {
     "data": {
      "text/plain": [
       "False    4293\n",
       "True       81\n",
       "Name: crossed, dtype: int64"
      ]
     },
     "metadata": {},
     "output_type": "display_data"
    }
   ],
   "source": [
    "gdf_rhpx_sm['crossed'] = gdf_rhpx_sm['geometry'].apply(check_for_geom)\n",
    "display(gdf_rhpx_sm['crossed'].value_counts())\n",
    "gdf_rhpx_sm = gdf_rhpx_sm.loc[gdf_rhpx_sm['crossed'] == False]\n",
    "\n",
    "gdf_rhpx['crossed'] = gdf_rhpx['geometry'].apply(check_for_geom)\n",
    "display(gdf_rhpx['crossed'].value_counts())\n",
    "gdf_rhpx = gdf_rhpx.loc[gdf_rhpx['crossed'] == False]"
   ]
  },
  {
   "cell_type": "code",
   "execution_count": 10,
   "id": "36071837-d6a4-4abe-82a6-a8f1ec19851a",
   "metadata": {
    "tags": []
   },
   "outputs": [
    {
     "data": {
      "text/html": [
       "<div>\n",
       "<style scoped>\n",
       "    .dataframe tbody tr th:only-of-type {\n",
       "        vertical-align: middle;\n",
       "    }\n",
       "\n",
       "    .dataframe tbody tr th {\n",
       "        vertical-align: top;\n",
       "    }\n",
       "\n",
       "    .dataframe thead th {\n",
       "        text-align: right;\n",
       "    }\n",
       "</style>\n",
       "<table border=\"1\" class=\"dataframe\">\n",
       "  <thead>\n",
       "    <tr style=\"text-align: right;\">\n",
       "      <th></th>\n",
       "      <th>cell_id</th>\n",
       "      <th>elevation</th>\n",
       "      <th>corine_landuse</th>\n",
       "      <th>temperature</th>\n",
       "      <th>precipitation</th>\n",
       "      <th>population</th>\n",
       "      <th>soil_class</th>\n",
       "    </tr>\n",
       "  </thead>\n",
       "  <tbody>\n",
       "    <tr>\n",
       "      <th>0</th>\n",
       "      <td>N23331748</td>\n",
       "      <td>0.0</td>\n",
       "      <td>523</td>\n",
       "      <td>0.0</td>\n",
       "      <td>0.0</td>\n",
       "      <td>0.0</td>\n",
       "      <td>21.0</td>\n",
       "    </tr>\n",
       "    <tr>\n",
       "      <th>1</th>\n",
       "      <td>N23331771</td>\n",
       "      <td>0.0</td>\n",
       "      <td>523</td>\n",
       "      <td>0.0</td>\n",
       "      <td>0.0</td>\n",
       "      <td>0.0</td>\n",
       "      <td>21.0</td>\n",
       "    </tr>\n",
       "  </tbody>\n",
       "</table>\n",
       "</div>"
      ],
      "text/plain": [
       "     cell_id  elevation  corine_landuse  temperature  precipitation  \\\n",
       "0  N23331748        0.0             523          0.0            0.0   \n",
       "1  N23331771        0.0             523          0.0            0.0   \n",
       "\n",
       "   population  soil_class  \n",
       "0         0.0        21.0  \n",
       "1         0.0        21.0  "
      ]
     },
     "execution_count": 10,
     "metadata": {},
     "output_type": "execute_result"
    }
   ],
   "source": [
    "test_est = pd.read_csv(\"rhpix_agg.csv\")\n",
    "test_est.head(2)"
   ]
  },
  {
   "cell_type": "code",
   "execution_count": 11,
   "id": "21dd0392-c7c7-461f-a3b8-3497d2f34f87",
   "metadata": {
    "tags": []
   },
   "outputs": [
    {
     "data": {
      "text/plain": [
       "258965"
      ]
     },
     "execution_count": 11,
     "metadata": {},
     "output_type": "execute_result"
    }
   ],
   "source": [
    "test_est.size"
   ]
  },
  {
   "cell_type": "code",
   "execution_count": 12,
   "id": "989cca4f-74f4-4144-8c03-adf79e067272",
   "metadata": {
    "tags": []
   },
   "outputs": [
    {
     "data": {
      "text/plain": [
       "36995"
      ]
     },
     "execution_count": 12,
     "metadata": {},
     "output_type": "execute_result"
    }
   ],
   "source": [
    "len(test_est.index)"
   ]
  },
  {
   "cell_type": "code",
   "execution_count": 13,
   "id": "7f08a41f-cb1e-498b-9cab-8b6af3a64248",
   "metadata": {
    "tags": []
   },
   "outputs": [],
   "source": [
    "rdggs = WGS84_003"
   ]
  },
  {
   "cell_type": "code",
   "execution_count": 27,
   "id": "211b304d-716f-4f78-8f2a-17c73ffcdf02",
   "metadata": {
    "tags": []
   },
   "outputs": [],
   "source": [
    "def rhpix_suid_to_string(suid):\n",
    "    return \"\".join(map(lambda x: str(x), suid))\n",
    "\n",
    "\n",
    "def rhpix_string_to_suid(s):\n",
    "    b = s[0]\n",
    "    rs = map(lambda x: int(x), s[1:])\n",
    "    return (b, *rs)"
   ]
  },
  {
   "cell_type": "code",
   "execution_count": 29,
   "id": "6865c2fd-a866-47c6-a849-3d83d0ab52ea",
   "metadata": {
    "tags": []
   },
   "outputs": [
    {
     "data": {
      "text/plain": [
       "('N', 2, 3, 3, 3, 1, 7, 4, 8)"
      ]
     },
     "execution_count": 29,
     "metadata": {},
     "output_type": "execute_result"
    }
   ],
   "source": [
    "s =rhpix_string_to_suid('N23331748')\n",
    "s"
   ]
  },
  {
   "cell_type": "code",
   "execution_count": 30,
   "id": "69eeddc2-986a-4c15-92a2-4efaae288751",
   "metadata": {
    "tags": []
   },
   "outputs": [
    {
     "data": {
      "text/plain": [
       "<rhealpixdggs.dggs.Cell at 0x7f98213fd150>"
      ]
     },
     "execution_count": 30,
     "metadata": {},
     "output_type": "execute_result"
    }
   ],
   "source": [
    "rdggs.cell(suid=s)"
   ]
  },
  {
   "cell_type": "code",
   "execution_count": 32,
   "id": "1cf028ea-99e6-4203-a2ad-14a0e528a8c9",
   "metadata": {
    "tags": []
   },
   "outputs": [],
   "source": [
    "t2 = create_rhpix_geometry(test_est[\"cell_id\"].apply(lambda s: rdggs.cell(suid=rhpix_string_to_suid(s))))"
   ]
  },
  {
   "cell_type": "code",
   "execution_count": 33,
   "id": "7d115c41-b834-421d-8097-740b86d4cbdf",
   "metadata": {
    "tags": []
   },
   "outputs": [
    {
     "data": {
      "text/html": [
       "<div>\n",
       "<style scoped>\n",
       "    .dataframe tbody tr th:only-of-type {\n",
       "        vertical-align: middle;\n",
       "    }\n",
       "\n",
       "    .dataframe tbody tr th {\n",
       "        vertical-align: top;\n",
       "    }\n",
       "\n",
       "    .dataframe thead th {\n",
       "        text-align: right;\n",
       "    }\n",
       "</style>\n",
       "<table border=\"1\" class=\"dataframe\">\n",
       "  <thead>\n",
       "    <tr style=\"text-align: right;\">\n",
       "      <th></th>\n",
       "      <th>cell_id</th>\n",
       "      <th>geometry</th>\n",
       "    </tr>\n",
       "  </thead>\n",
       "  <tbody>\n",
       "    <tr>\n",
       "      <th>0</th>\n",
       "      <td>N23331748</td>\n",
       "      <td>POLYGON ((21.81076 58.22632, 21.83118 58.22632...</td>\n",
       "    </tr>\n",
       "    <tr>\n",
       "      <th>1</th>\n",
       "      <td>N23331771</td>\n",
       "      <td>POLYGON ((21.82066 58.24113, 21.84109 58.24113...</td>\n",
       "    </tr>\n",
       "  </tbody>\n",
       "</table>\n",
       "</div>"
      ],
      "text/plain": [
       "     cell_id                                           geometry\n",
       "0  N23331748  POLYGON ((21.81076 58.22632, 21.83118 58.22632...\n",
       "1  N23331771  POLYGON ((21.82066 58.24113, 21.84109 58.24113..."
      ]
     },
     "execution_count": 33,
     "metadata": {},
     "output_type": "execute_result"
    }
   ],
   "source": [
    "t2.head(2)"
   ]
  },
  {
   "cell_type": "code",
   "execution_count": 4,
   "id": "af0c3310-c181-47d9-82ce-a5b43cb3e40e",
   "metadata": {
    "tags": []
   },
   "outputs": [],
   "source": [
    "import numba"
   ]
  },
  {
   "cell_type": "code",
   "execution_count": null,
   "id": "57fa9710-47d8-4fd3-bb8e-9d0ddb623cc0",
   "metadata": {},
   "outputs": [],
   "source": []
  }
 ],
 "metadata": {
  "kernelspec": {
   "display_name": "daskgeo2022a",
   "language": "python",
   "name": "daskgeo2022a"
  },
  "language_info": {
   "codemirror_mode": {
    "name": "ipython",
    "version": 3
   },
   "file_extension": ".py",
   "mimetype": "text/x-python",
   "name": "python",
   "nbconvert_exporter": "python",
   "pygments_lexer": "ipython3",
   "version": "3.10.6"
  }
 },
 "nbformat": 4,
 "nbformat_minor": 5
}
